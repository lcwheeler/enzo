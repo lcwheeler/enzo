{
 "cells": [
  {
   "cell_type": "markdown",
   "metadata": {},
   "source": [
    "### Test a simple example of creating and using custom fitness, mutation, and fixation probability functions \n",
    "This notebook lays out the usage of the PathwaySetFlex object in *enzo*, which allows/requires the user to input custom functions to determine mutations, fitness, and fixation probability. The fitness function must be a function of either the steady state concentrations or the steady state amounts of floating species. Aside from that constraint, the user can input any arbitrary fitness function. The same goes for the mutation function and the fixation probability function. They are now very flexible. One important note is that I have now allowed the \"mutation\" values to be either 1) a multiplier that is applied to the previous parameter value at each iteration, or 2) a set of values that are directly assigned to the parameters. This is shown below in more detail. "
   ]
  },
  {
   "cell_type": "code",
   "execution_count": null,
   "metadata": {},
   "outputs": [],
   "source": [
    "import numpy as np\n",
    "import tellurium as te\n",
    "%matplotlib inline\n",
    "import matplotlib.pyplot as plt\n",
    "from copy import copy\n",
    "from enzo import PathwaySetFlex"
   ]
  },
  {
   "cell_type": "markdown",
   "metadata": {},
   "source": [
    "### Define the antimony model \n"
   ]
  },
  {
   "cell_type": "code",
   "execution_count": null,
   "metadata": {},
   "outputs": [],
   "source": [
    "# Create a model string to generate models downstream. This is the naive anthocyanin pathway model as used in \n",
    "# the original paper. Under the hood, this is passed to Tellurium to generate a model object. \n",
    "model_string = \"\"\"\n",
    "    \n",
    "    # Constant source entering model\n",
    "    Source: => PCoA;\n",
    "    \n",
    "    # Rate laws for all the central enzymatic reactions\n",
    "    \n",
    "    CHS: PCoA => cha; (k_CHS_PCoA*CHSt*PCoA)/(Km_CHS_PCoA + PCoA);\n",
    "    \n",
    "    CHI: cha => nar; (k_CHI_cha*CHIt*cha)/(Km_CHI_cha + cha);\n",
    "    \n",
    "\n",
    "    F3H_nar: nar => DHK; (k_F3H_nar*F3Ht*nar)/(Km_F3H_nar + nar);\n",
    "    \n",
    "    \n",
    "    F3pH_DHK: DHK => DHQ; (k_F3pH_DHK*F3pHt*DHK)/(Km_F3pH_DHK + DHK);\n",
    "    \n",
    "    \n",
    "    F35H_DHQ: DHQ => DHM; (k_F35H_DHQ*F35Ht*DHQ)/(Km_F35H_DHQ + DHQ);\n",
    "    \n",
    "    \n",
    "    FLS_DHK: DHK => kam; (k_FLS_DHK*FLSt*DHK)/(Km_FLS_DHK * (1 + DHQ/Km_FLS_DHQ + DHM/Km_FLS_DHM) + DHK);\n",
    "    \n",
    "    FLS_DHQ: DHQ => que; (k_FLS_DHQ*FLSt*DHQ)/(Km_FLS_DHQ * (1 + DHM/Km_FLS_DHM + DHK/Km_FLS_DHK) + DHQ);\n",
    "    \n",
    "    FLS_DHM: DHM => myr; (k_FLS_DHM*FLSt*DHM)/(Km_FLS_DHM * (1 + DHK/Km_FLS_DHK + DHQ/Km_FLS_DHQ) + DHM);\n",
    "    \n",
    "    \n",
    "    DFR_DHK: DHK => LCP; (k_DFR_DHK*DFRt*DHK)/(Km_DFR_DHK * (1 + DHQ/Km_DFR_DHQ + DHM/Km_DFR_DHM) + DHK);\n",
    "    \n",
    "    DFR_DHQ: DHQ => LCC; (k_DFR_DHQ*DFRt*DHQ)/(Km_DFR_DHQ * (1 + DHK/Km_DFR_DHK + DHM/Km_DFR_DHM) + DHQ);\n",
    "    \n",
    "    DFR_DHM: DHM => LCD; (k_DFR_DHM*DFRt*DHM)/(Km_DFR_DHM * (1 + DHK/Km_DFR_DHK + DHQ/Km_DFR_DHQ) + DHM);\n",
    "    \n",
    "    \n",
    "    ANS_LCP: LCP => pel; (k_ANS_LCP*ANSt*LCP)/(Km_ANS_LCP * (1 + LCC/Km_ANS_LCC + LCD/Km_ANS_LCD) + LCP);\n",
    "    \n",
    "    ANS_LCC: LCC => cya; (k_ANS_LCC*ANSt*LCC)/(Km_ANS_LCC * (1 + LCP/Km_ANS_LCP + LCD/Km_ANS_LCD) + LCC);\n",
    "    \n",
    "    ANS_LCD: LCD => del; (k_ANS_LCD*ANSt*LCD)/(Km_ANS_LCD * (1 + LCP/Km_ANS_LCP + LCC/Km_ANS_LCC) + LCD);\n",
    "    \n",
    "\n",
    "    # Product sinks\n",
    "    \n",
    "    pel_sink: pel =>; k_pel_sink*pel;\n",
    "    \n",
    "    cya_sink: cya =>; k_cya_sink*cya;\n",
    "    \n",
    "    del_sink: del =>; k_del_sink*del;\n",
    "    \n",
    "\n",
    "    kam_sink: kam =>; k_kam_sink*kam;\n",
    "    \n",
    "    que_sink: que =>; k_que_sink*que;\n",
    "    \n",
    "    myr_sink: myr =>; k_myr_sink*myr;\n",
    "    \n",
    "        \n",
    "    # Substrate Kcat's\n",
    "    k_CHS_PCoA=14; k_CHI_cha=14; k_F3H_nar=14; \n",
    "    k_F3pH_DHK=14; k_F35H_DHQ=14; k_FLS_DHK=14; \n",
    "    k_FLS_DHQ=14; k_FLS_DHM=14; k_DFR_DHK=14; k_DFR_DHQ=14; k_DFR_DHM=14; k_ANS_LCP=14; k_ANS_LCC=14;\n",
    "    k_ANS_LCD=14; \n",
    "   \n",
    "    # Substrate Km's\n",
    "    Km_CHS_PCoA=0.013; Km_CHI_cha=0.013; \n",
    "    Km_F3H_nar=0.013; Km_F3pH_DHK=0.013; Km_F35H_DHQ=0.013; \n",
    "    Km_FLS_DHK=0.013; Km_FLS_DHQ=0.013; Km_FLS_DHM=0.013; \n",
    "    Km_DFR_DHK=0.013; Km_DFR_DHQ=0.013; Km_DFR_DHM=0.013; \n",
    "    Km_ANS_LCP=0.013; Km_ANS_LCC=0.013; Km_ANS_LCD=0.013;\n",
    "\n",
    "\n",
    "    # Enzyme concentrations\n",
    "    CHSt=0.001; CHIt=0.001; F3Ht=0.001; F3pHt=0.001;\n",
    "    F35Ht=0.001; FLSt=0.001; DFRt=0.001; ANSt=0.001; \n",
    "\n",
    "    \n",
    "    # Rates for sinks \n",
    "    k_pel_sink=0.0005; k_cya_sink=0.0005; k_del_sink=0.0005; \n",
    "    k_kam_sink=0.0005; k_que_sink=0.0005; k_myr_sink=0.0005; \n",
    "    \n",
    "    # Source influx\n",
    "    const PCoA = 0.01;\n",
    "\"\"\""
   ]
  },
  {
   "cell_type": "code",
   "execution_count": null,
   "metadata": {},
   "outputs": [],
   "source": [
    "# Load the model_string into a Tellurium model object \n",
    "r = te.loada(model_string)"
   ]
  },
  {
   "cell_type": "code",
   "execution_count": null,
   "metadata": {},
   "outputs": [],
   "source": [
    "r.resetToOrigin()\n",
    "result = r.simulate(1, 10000, 100)\n",
    "r.plot()"
   ]
  },
  {
   "cell_type": "code",
   "execution_count": null,
   "metadata": {},
   "outputs": [],
   "source": [
    "# Get a named array of steady state values for the floating species\n",
    "r.resetToOrigin()\n",
    "r.getSteadyStateValuesNamedArray()"
   ]
  },
  {
   "cell_type": "code",
   "execution_count": null,
   "metadata": {},
   "outputs": [],
   "source": [
    "# This array seems to be identical to the steady state solution array\n",
    "r.getFloatingSpeciesConcentrationsNamedArray()"
   ]
  },
  {
   "cell_type": "code",
   "execution_count": null,
   "metadata": {},
   "outputs": [],
   "source": [
    "# To use amounts instead of concentrations we need to use this function instead in enzo\n",
    "# I have added this functionality and allow the custom fitness functions to use amounts instead of concentrations\n",
    "r.getFloatingSpeciesAmountsNamedArray()"
   ]
  },
  {
   "cell_type": "code",
   "execution_count": null,
   "metadata": {},
   "outputs": [],
   "source": [
    "# Get the total sum of steady state concentrations\n",
    "np.sum(r.getSteadyStateValues())"
   ]
  },
  {
   "cell_type": "markdown",
   "metadata": {},
   "source": [
    "### Set up the moving pieces for evolving with enzo"
   ]
  },
  {
   "cell_type": "code",
   "execution_count": null,
   "metadata": {},
   "outputs": [],
   "source": [
    "# An example set of evolvable parameters to pass to PathwaySetFlex.evolve()\n",
    "# Construct a list of evolvable parameters for the evolutionary simulation (exclude sink rates)\n",
    "param = r.getGlobalParameterIds()\n",
    "evo_params = []\n",
    "for n in param:\n",
    "    if \"sink\" not in n:\n",
    "        evo_params.append(n)\n",
    "        \n",
    "    else:\n",
    "        pass"
   ]
  },
  {
   "cell_type": "code",
   "execution_count": null,
   "metadata": {},
   "outputs": [],
   "source": [
    "# Define the mutation function and mutation func args\n",
    "def mutation_func(start, end, N, size, params):\n",
    "    \"\"\"Toy mutation model randomly samples values from a gamma distribution.\"\"\"\n",
    "    \n",
    "    source = np.random.gamma(0.8, 3, N)\n",
    "    mutations = {}\n",
    "    \n",
    "    # This builds a dict with a possible mutation for each evolvable param at each iteration\n",
    "    # the keys for each dict need to have all the evolvable parameters\n",
    "        \n",
    "    template = {}\n",
    "    for p in params: # this requires making the params arg from inside Pathway an arg for mutation_func\n",
    "        template[p] = 0\n",
    "        \n",
    "    for i in range(size):\n",
    "        mutations[i] = copy(template)\n",
    "        \n",
    "    # for this to vary across params need a function that determines parameter type and specifies different\n",
    "    # sampling process\n",
    "    for key in mutations.keys():\n",
    "        for pa in mutations[key].keys():\n",
    "            mutations[key][pa] = np.random.choice(source)\n",
    "        \n",
    "    return mutations\n",
    "\n",
    "# The mutation_func_args are evaluated inside of the PathwaySetFlex object when running the \n",
    "# PathwaySetFlex.evolve() function\n",
    "mutation_func_args = {\"start\":0.00001, \"end\":100, \"N\":100000, \"size\":50001, \"params\":\"params\"}"
   ]
  },
  {
   "cell_type": "code",
   "execution_count": null,
   "metadata": {},
   "outputs": [],
   "source": [
    "## Define the fitness function and args\n",
    "# This function needs to have \"optimum\" and \"opt_metric\" as arguments/variables in order for the evolve\n",
    "# function to know when to stop the simulations once they have reached the optimum value within the defined\n",
    "# tolerance. The alternative is to not have either \"optimum\" and \"opt_metric\" arguments and simply allow the\n",
    "# simulations to run until the pre-defined number of evolutionary iterations have been completed. This would\n",
    "# be well suited to a fitness function that maximizes steady state concentrations. It also must reference \n",
    "# SS_values and SS_values_current, which are internal variables of the PathwayFlex object. \n",
    "# This W_func only really makes sense with a single constant compartment size since there are many \n",
    "# configurations that can yield the same total SS concentration. \n",
    "\n",
    "def W_func(optimum, numerator_1, denominator_1, numerator_2, total_conc, constraint):\n",
    "    \"\"\"Gaussian stabilizing fitness function; a peak around optimum \"\"\"\n",
    "    \n",
    "    # Instead add denonimator list name and a set of denominator indexes, same for numerator\n",
    "    metric_1 = np.sum(numerator_1)/np.sum(denominator_1) \n",
    "    metric_2 = np.sum(numerator_2)/total_conc\n",
    "\n",
    "    # Calculate the current fitness as the negative exp of distance from optimum\n",
    "    w = np.exp(-1*(metric_1 - optimum)**2) * np.exp(-1*(metric_2 - constraint)**2)\n",
    "    \n",
    "    # Include the opt_metric variable in the custom function, which gets picked up by PathwayFlex.evolve\n",
    "    opt_metric = metric_1\n",
    "    \n",
    "    return w, opt_metric\n",
    "\n",
    "\n",
    "# These are the sets of args to pass to the custom fitness function. They are evaluated inside of the \n",
    "# PathwaySetFlex.evolve() function in enzo. \n",
    "W_func_args = {\"mutant\":{\"optimum\":0.5, \"numerator_1\":\"SS_values[13]\", \"denominator_1\":\"SS_values[[11, 12, 13]]\", \n",
    "                         \"numerator_2\":\"SS_values\",  \"total_conc\":12.2, \"constraint\":1}, \n",
    "               \"current\":{\"optimum\":0.5, \"numerator_1\":\"SS_values_current[13]\", \"denominator_1\":\"SS_values_current[[11, 12, 13]]\", \n",
    "                         \"numerator_2\":\"SS_values_current\", \"total_conc\":12.2, \"constraint\":1}}\n"
   ]
  },
  {
   "cell_type": "code",
   "execution_count": null,
   "metadata": {},
   "outputs": [],
   "source": [
    "# Define the Pfix function and args\n",
    "def Pfix_func(s):\n",
    "    \"\"\"Calculates fixation probability proportional to selection coefficient\"\"\"\n",
    "    P = (1-np.exp(-s))\n",
    "    return P\n",
    "\n",
    "# The Pfix_func and Pfix_func_args are passed as arguments to PathwaySetFlex.evolve()\n",
    "Pfix_func_args = {\"s\":\"s\"}"
   ]
  },
  {
   "cell_type": "code",
   "execution_count": null,
   "metadata": {},
   "outputs": [],
   "source": [
    "# Generate a PathwaySetFlex object (containing an ensemble of Pathway objects) to evolve\n",
    "evolving_set = PathwaySetFlex(\"example_simulations\")\n",
    "evolving_set.generate(model_string, 1)"
   ]
  },
  {
   "cell_type": "code",
   "execution_count": null,
   "metadata": {},
   "outputs": [],
   "source": [
    "# Evolve the PathwaySetFlex ensemble toward optimum defined in W_func_args\n",
    "# Here I pass the custom functions and sets of arguments for those functions to PathwaySetFlex.evolve()\n",
    "# I have set direct_assign_mutations = False so that the mutation values are multipliers of the current \n",
    "# parameter value rather than values that are directly assigned to the parameter\n",
    "evolving_set.evolve(params=evo_params, W_func=W_func, W_func_args=W_func_args, mutation_func=mutation_func, \n",
    "                    mutation_func_args=mutation_func_args, Pfix_func=Pfix_func, Pfix_func_args=Pfix_func_args,\n",
    "                    direct_assign_mutations = False, optimum_tolerance = 0.1, iterations=50000, stop=True, MCA=True)"
   ]
  },
  {
   "cell_type": "code",
   "execution_count": null,
   "metadata": {},
   "outputs": [],
   "source": [
    "# Check the properties of fixed parameter mutations\n",
    "evolving_set.pathway_set[0].parameters"
   ]
  },
  {
   "cell_type": "code",
   "execution_count": null,
   "metadata": {},
   "outputs": [],
   "source": [
    "# Check the concentration trajectories of floating species during evolution\n",
    "evolving_set.pathway_set[0].concentrations"
   ]
  },
  {
   "cell_type": "code",
   "execution_count": null,
   "metadata": {},
   "outputs": [],
   "source": [
    "# Check if an optimum was actually reached in the simulations, if not will be an empty {}\n",
    "evolving_set.pathway_set[0].optima"
   ]
  },
  {
   "cell_type": "code",
   "execution_count": null,
   "metadata": {},
   "outputs": [],
   "source": [
    "# Check the steady state concentrations\n",
    "evolving_set.pathway_set[0].plot_ss()"
   ]
  }
 ],
 "metadata": {
  "kernelspec": {
   "display_name": "Python 3",
   "language": "python",
   "name": "python3"
  },
  "language_info": {
   "codemirror_mode": {
    "name": "ipython",
    "version": 3
   },
   "file_extension": ".py",
   "mimetype": "text/x-python",
   "name": "python",
   "nbconvert_exporter": "python",
   "pygments_lexer": "ipython3",
   "version": "3.8.5"
  }
 },
 "nbformat": 4,
 "nbformat_minor": 4
}
