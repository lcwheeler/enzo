{
 "cells": [
  {
   "cell_type": "markdown",
   "metadata": {},
   "source": [
    "### Test a simple example of creating and using custom fitness, mutation, and fixation probability functions \n",
    "This notebook lays out the usage of the PathwaySetFlex object in *enzo*, which allows/requires the user to input custom functions to determine mutations, fitness, and fixation probability. The fitness function must be a function of either the steady state concentrations or the steady state amounts of floating species. Aside from that constraint, the user can input any arbitrary fitness function. The same goes for the mutation function and the fixation probability function. They are now very flexible. One important note is that I have now allowed the \"mutation\" values to be either 1) a multiplier that is applied to the previous parameter value at each iteration, or 2) a set of values that are directly assigned to the parameters. This is shown below in more detail. "
   ]
  },
  {
   "cell_type": "code",
   "execution_count": 1,
   "metadata": {},
   "outputs": [],
   "source": [
    "import numpy as np\n",
    "import tellurium as te\n",
    "%matplotlib inline\n",
    "import matplotlib.pyplot as plt\n",
    "from copy import copy\n",
    "from enzo import PathwaySetFlex"
   ]
  },
  {
   "cell_type": "markdown",
   "metadata": {},
   "source": [
    "### Define the antimony model \n"
   ]
  },
  {
   "cell_type": "code",
   "execution_count": 2,
   "metadata": {},
   "outputs": [],
   "source": [
    "# Create a model string to generate models downstream. This is the naive anthocyanin pathway model as used in \n",
    "# the original paper. Under the hood, this is passed to Tellurium to generate a model object. \n",
    "model_string = \"\"\"\n",
    "    \n",
    "    # Constant source entering model\n",
    "    Source: => PCoA;\n",
    "    \n",
    "    # Rate laws for all the central enzymatic reactions\n",
    "    \n",
    "    CHS: PCoA => cha; (k_CHS_PCoA*CHSt*PCoA)/(Km_CHS_PCoA + PCoA);\n",
    "    \n",
    "    CHI: cha => nar; (k_CHI_cha*CHIt*cha)/(Km_CHI_cha + cha);\n",
    "    \n",
    "\n",
    "    F3H_nar: nar => DHK; (k_F3H_nar*F3Ht*nar)/(Km_F3H_nar + nar);\n",
    "    \n",
    "    \n",
    "    F3pH_DHK: DHK => DHQ; (k_F3pH_DHK*F3pHt*DHK)/(Km_F3pH_DHK + DHK);\n",
    "    \n",
    "    \n",
    "    F35H_DHQ: DHQ => DHM; (k_F35H_DHQ*F35Ht*DHQ)/(Km_F35H_DHQ + DHQ);\n",
    "    \n",
    "    \n",
    "    FLS_DHK: DHK => kam; (k_FLS_DHK*FLSt*DHK)/(Km_FLS_DHK * (1 + DHQ/Km_FLS_DHQ + DHM/Km_FLS_DHM) + DHK);\n",
    "    \n",
    "    FLS_DHQ: DHQ => que; (k_FLS_DHQ*FLSt*DHQ)/(Km_FLS_DHQ * (1 + DHM/Km_FLS_DHM + DHK/Km_FLS_DHK) + DHQ);\n",
    "    \n",
    "    FLS_DHM: DHM => myr; (k_FLS_DHM*FLSt*DHM)/(Km_FLS_DHM * (1 + DHK/Km_FLS_DHK + DHQ/Km_FLS_DHQ) + DHM);\n",
    "    \n",
    "    \n",
    "    DFR_DHK: DHK => LCP; (k_DFR_DHK*DFRt*DHK)/(Km_DFR_DHK * (1 + DHQ/Km_DFR_DHQ + DHM/Km_DFR_DHM) + DHK);\n",
    "    \n",
    "    DFR_DHQ: DHQ => LCC; (k_DFR_DHQ*DFRt*DHQ)/(Km_DFR_DHQ * (1 + DHK/Km_DFR_DHK + DHM/Km_DFR_DHM) + DHQ);\n",
    "    \n",
    "    DFR_DHM: DHM => LCD; (k_DFR_DHM*DFRt*DHM)/(Km_DFR_DHM * (1 + DHK/Km_DFR_DHK + DHQ/Km_DFR_DHQ) + DHM);\n",
    "    \n",
    "    \n",
    "    ANS_LCP: LCP => pel; (k_ANS_LCP*ANSt*LCP)/(Km_ANS_LCP * (1 + LCC/Km_ANS_LCC + LCD/Km_ANS_LCD) + LCP);\n",
    "    \n",
    "    ANS_LCC: LCC => cya; (k_ANS_LCC*ANSt*LCC)/(Km_ANS_LCC * (1 + LCP/Km_ANS_LCP + LCD/Km_ANS_LCD) + LCC);\n",
    "    \n",
    "    ANS_LCD: LCD => del; (k_ANS_LCD*ANSt*LCD)/(Km_ANS_LCD * (1 + LCP/Km_ANS_LCP + LCC/Km_ANS_LCC) + LCD);\n",
    "    \n",
    "\n",
    "    # Product sinks\n",
    "    \n",
    "    pel_sink: pel =>; k_pel_sink*pel;\n",
    "    \n",
    "    cya_sink: cya =>; k_cya_sink*cya;\n",
    "    \n",
    "    del_sink: del =>; k_del_sink*del;\n",
    "    \n",
    "\n",
    "    kam_sink: kam =>; k_kam_sink*kam;\n",
    "    \n",
    "    que_sink: que =>; k_que_sink*que;\n",
    "    \n",
    "    myr_sink: myr =>; k_myr_sink*myr;\n",
    "    \n",
    "        \n",
    "    # Substrate Kcat's\n",
    "    k_CHS_PCoA=14; k_CHI_cha=14; k_F3H_nar=14; \n",
    "    k_F3pH_DHK=14; k_F35H_DHQ=14; k_FLS_DHK=14; \n",
    "    k_FLS_DHQ=14; k_FLS_DHM=14; k_DFR_DHK=14; k_DFR_DHQ=14; k_DFR_DHM=14; k_ANS_LCP=14; k_ANS_LCC=14;\n",
    "    k_ANS_LCD=14; \n",
    "   \n",
    "    # Substrate Km's\n",
    "    Km_CHS_PCoA=0.013; Km_CHI_cha=0.013; \n",
    "    Km_F3H_nar=0.013; Km_F3pH_DHK=0.013; Km_F35H_DHQ=0.013; \n",
    "    Km_FLS_DHK=0.013; Km_FLS_DHQ=0.013; Km_FLS_DHM=0.013; \n",
    "    Km_DFR_DHK=0.013; Km_DFR_DHQ=0.013; Km_DFR_DHM=0.013; \n",
    "    Km_ANS_LCP=0.013; Km_ANS_LCC=0.013; Km_ANS_LCD=0.013;\n",
    "\n",
    "\n",
    "    # Enzyme concentrations\n",
    "    CHSt=0.001; CHIt=0.001; F3Ht=0.001; F3pHt=0.001;\n",
    "    F35Ht=0.001; FLSt=0.001; DFRt=0.001; ANSt=0.001; \n",
    "\n",
    "    \n",
    "    # Rates for sinks \n",
    "    k_pel_sink=0.0005; k_cya_sink=0.0005; k_del_sink=0.0005; \n",
    "    k_kam_sink=0.0005; k_que_sink=0.0005; k_myr_sink=0.0005; \n",
    "    \n",
    "    # Source influx\n",
    "    const PCoA = 0.01;\n",
    "\"\"\""
   ]
  },
  {
   "cell_type": "code",
   "execution_count": 3,
   "metadata": {},
   "outputs": [],
   "source": [
    "# Load the model_string into a Tellurium model object \n",
    "r = te.loada(model_string)"
   ]
  },
  {
   "cell_type": "code",
   "execution_count": 4,
   "metadata": {},
   "outputs": [
    {
     "data": {
      "image/png": "[encoded data removed]",
      "text/plain": [
       "<Figure size 432x288 with 1 Axes>"
      ]
     },
     "metadata": {},
     "output_type": "display_data"
    }
   ],
   "source": [
    "r.resetToOrigin()\n",
    "result = r.simulate(1, 10000, 100)\n",
    "r.plot()"
   ]
  },
  {
   "cell_type": "code",
   "execution_count": 5,
   "metadata": {},
   "outputs": [
    {
     "data": {
      "text/plain": [
       "    [cha], [nar],      [DHK],       [DHQ],       [DHM],   [kam],   [que],    [myr],      [LCP],       [LCC],       [LCD],   [pel],   [cya],    [del]\n",
       " [[  0.01,  0.01, 0.00234285, 0.000791563, 0.000476695, 3.94916, 1.33427, 0.803526, 0.00234285, 0.000791563, 0.000476695, 3.94916, 1.33427, 0.803526]]"
      ]
     },
     "execution_count": 5,
     "metadata": {},
     "output_type": "execute_result"
    }
   ],
   "source": [
    "# Get a named array of steady state values for the floating species\n",
    "r.resetToOrigin()\n",
    "r.getSteadyStateValuesNamedArray()"
   ]
  },
  {
   "cell_type": "code",
   "execution_count": 6,
   "metadata": {},
   "outputs": [
    {
     "data": {
      "text/plain": [
       "     cha,  nar,        DHK,         DHQ,         DHM,     kam,     que,      myr,        LCP,         LCC,         LCD,     pel,     cya,      del\n",
       " [[ 0.01, 0.01, 0.00234285, 0.000791563, 0.000476695, 3.94916, 1.33427, 0.803526, 0.00234285, 0.000791563, 0.000476695, 3.94916, 1.33427, 0.803526]]"
      ]
     },
     "execution_count": 6,
     "metadata": {},
     "output_type": "execute_result"
    }
   ],
   "source": [
    "# This array seems to be identical to the steady state solution array\n",
    "r.getFloatingSpeciesConcentrationsNamedArray()"
   ]
  },
  {
   "cell_type": "code",
   "execution_count": 7,
   "metadata": {},
   "outputs": [
    {
     "data": {
      "text/plain": [
       "     cha,  nar,        DHK,         DHQ,         DHM,     kam,     que,      myr,        LCP,         LCC,         LCD,     pel,     cya,      del\n",
       " [[ 0.01, 0.01, 0.00234285, 0.000791563, 0.000476695, 3.94916, 1.33427, 0.803526, 0.00234285, 0.000791563, 0.000476695, 3.94916, 1.33427, 0.803526]]"
      ]
     },
     "execution_count": 7,
     "metadata": {},
     "output_type": "execute_result"
    }
   ],
   "source": [
    "# To use amounts instead of concentrations we need to use this function instead in enzo\n",
    "# I have added this functionality and allow the custom fitness functions to use amounts instead of concentrations\n",
    "r.getFloatingSpeciesAmountsNamedArray()"
   ]
  },
  {
   "cell_type": "code",
   "execution_count": 8,
   "metadata": {},
   "outputs": [
    {
     "data": {
      "text/plain": [
       "12.201135265700483"
      ]
     },
     "execution_count": 8,
     "metadata": {},
     "output_type": "execute_result"
    }
   ],
   "source": [
    "# Get the total sum of steady state concentrations\n",
    "np.sum(r.getSteadyStateValues())"
   ]
  },
  {
   "cell_type": "markdown",
   "metadata": {},
   "source": [
    "### Set up the moving pieces for evolving with enzo"
   ]
  },
  {
   "cell_type": "code",
   "execution_count": 9,
   "metadata": {},
   "outputs": [],
   "source": [
    "# An example set of evolvable parameters to pass to PathwaySetFlex.evolve()\n",
    "# Construct a list of evolvable parameters for the evolutionary simulation (exclude sink rates)\n",
    "param = r.getGlobalParameterIds()\n",
    "evo_params = []\n",
    "for n in param:\n",
    "    if \"sink\" not in n:\n",
    "        evo_params.append(n)\n",
    "        \n",
    "    else:\n",
    "        pass"
   ]
  },
  {
   "cell_type": "code",
   "execution_count": 10,
   "metadata": {},
   "outputs": [],
   "source": [
    "# Define the mutation function and mutation func args\n",
    "def mutation_func(start, end, N, size, params):\n",
    "    \"\"\"Toy mutation model randomly samples from a uniform range of values.\"\"\"\n",
    "    \n",
    "    source = np.random.gamma(0.8, 3, N)\n",
    "    mutations = {}\n",
    "    \n",
    "    # This builds a dict with a possible mutation for each evolvable param at each iteration\n",
    "    # the keys for each dict need to have all the evolvable parameters\n",
    "        \n",
    "    template = {}\n",
    "    for p in params: # this requires making the params arg from inside Pathway an arg for mutation_func\n",
    "        template[p] = 0\n",
    "        \n",
    "    for i in range(size):\n",
    "        mutations[i] = copy(template)\n",
    "        \n",
    "    # for this to vary across params need a function that determines parameter type and specifies different\n",
    "    # sampling process\n",
    "    for key in mutations.keys():\n",
    "        for pa in mutations[key].keys():\n",
    "            mutations[key][pa] = np.random.choice(source)\n",
    "        \n",
    "    return mutations\n",
    "\n",
    "# The mutation_func_args are evaluated inside of the PathwaySetFlex object when running the \n",
    "# PathwaySetFlex.evolve() function\n",
    "mutation_func_args = {\"start\":0.00001, \"end\":100, \"N\":100000, \"size\":50001, \"params\":\"params\"}"
   ]
  },
  {
   "cell_type": "code",
   "execution_count": 11,
   "metadata": {},
   "outputs": [],
   "source": [
    "## Define the fitness function and args\n",
    "# This function needs to have \"optimum\" and \"opt_metric\" as arguments/variables. It also must reference \n",
    "# SS_values and SS_values_current, which are internal variables of the PathwayFlex object. \n",
    "# This W_func only really makes sense with a single constant compartment size since there are many \n",
    "# configurations that can yield the same total SS concentration. \n",
    "\n",
    "def W_func(optimum, numerator_1, denominator_1, numerator_2, total_conc, constraint):\n",
    "    \"\"\"Gaussian stabilizing fitness function; a peak around optimum \"\"\"\n",
    "    \n",
    "    # Instead add denonimator list name and a set of denominator indexes, same for numerator\n",
    "    metric_1 = np.sum(numerator_1)/np.sum(denominator_1) \n",
    "    metric_2 = np.sum(numerator_2)/total_conc\n",
    "\n",
    "    # Calculate the current fitness as the negative exp of distance from optimum\n",
    "    w = np.exp(-1*(metric_1 - optimum)**2) * np.exp(-1*(metric_2 - constraint)**2)\n",
    "    \n",
    "    # Include the opt_metric variable in the custom function, which gets picked up by PathwayFlex.evolve\n",
    "    opt_metric = metric_1\n",
    "    \n",
    "    return w, opt_metric\n",
    "\n",
    "\n",
    "# These are the sets of args to pass to the custom fitness function. They are evaluated inside of the \n",
    "# PathwaySetFlex.evolve() function in enzo. \n",
    "W_func_args = {\"mutant\":{\"optimum\":0.5, \"numerator_1\":\"SS_values[13]\", \"denominator_1\":\"SS_values[[11, 12, 13]]\", \n",
    "                         \"numerator_2\":\"SS_values\",  \"total_conc\":12.2, \"constraint\":1}, \n",
    "               \"current\":{\"optimum\":0.5, \"numerator_1\":\"SS_values_current[13]\", \"denominator_1\":\"SS_values_current[[11, 12, 13]]\", \n",
    "                         \"numerator_2\":\"SS_values_current\", \"total_conc\":12.2, \"constraint\":1}}\n"
   ]
  },
  {
   "cell_type": "code",
   "execution_count": 12,
   "metadata": {},
   "outputs": [],
   "source": [
    "# Define the Pfix function and args\n",
    "def Pfix_func(s):\n",
    "    \"\"\"Calculates fixation probability proportional to selection coefficient\"\"\"\n",
    "    P = (1-np.exp(-s))\n",
    "    return P\n",
    "\n",
    "# The Pfix_func and Pfix_func_args are passed as arguments to PathwaySetFlex.evolve()\n",
    "Pfix_func_args = {\"s\":\"s\"}"
   ]
  },
  {
   "cell_type": "code",
   "execution_count": 13,
   "metadata": {},
   "outputs": [],
   "source": [
    "# Generate a PathwaySetFlex object (containing an ensemble of Pathway objects) to evolve\n",
    "evolving_set = PathwaySetFlex(\"example_simulations\")\n",
    "evolving_set.generate(model_string, 1)"
   ]
  },
  {
   "cell_type": "code",
   "execution_count": 14,
   "metadata": {},
   "outputs": [
    {
     "name": "stdout",
     "output_type": "stream",
     "text": [
      "Entering iteration phase\n"
     ]
    }
   ],
   "source": [
    "# Evolve the PathwaySetFlex ensemble toward optimum defined in W_func_args\n",
    "evolving_set.evolve(params=evo_params, W_func=W_func, W_func_args=W_func_args, mutation_func=mutation_func, \n",
    "                    mutation_func_args=mutation_func_args, Pfix_func=Pfix_func, Pfix_func_args=Pfix_func_args,\n",
    "                    direct_assign_mutations = False, optimum_tolerance = 0.1, iterations=50000, stop=True, MCA=True)"
   ]
  },
  {
   "cell_type": "code",
   "execution_count": 15,
   "metadata": {},
   "outputs": [
    {
     "data": {
      "text/plain": [
       "[{'ID': 'Km_F3pH_DHK',\n",
       "  'value': 0.0016559855712126065,\n",
       "  's': 0.07806991885152448,\n",
       "  'P_fix': 0.07510024364600665,\n",
       "  'delta': -0.8726164945221071,\n",
       "  'arrival': 44,\n",
       "  'fitness': 0.9514205017420437,\n",
       "  'step': 1},\n",
       " {'ID': 'Km_DFR_DHQ',\n",
       "  'value': 0.03720873040932379,\n",
       "  's': 0.04413185954043819,\n",
       "  'P_fix': 0.0431722177171221,\n",
       "  'delta': 1.8622100314864458,\n",
       "  'arrival': 85,\n",
       "  'fitness': 0.9955523612824818,\n",
       "  'step': 1},\n",
       " {'ID': 'k_DFR_DHK',\n",
       "  'value': 8.261247396997264,\n",
       "  's': 0.004371404844196736,\n",
       "  'P_fix': 0.00436186416116624,\n",
       "  'delta': -0.4099109002144811,\n",
       "  'arrival': 507,\n",
       "  'fitness': 0.9999237661266785,\n",
       "  'step': 1}]"
      ]
     },
     "execution_count": 15,
     "metadata": {},
     "output_type": "execute_result"
    }
   ],
   "source": [
    "# Check the properties of fixed parameter mutations\n",
    "evolving_set.pathway_set[0].parameters"
   ]
  },
  {
   "cell_type": "code",
   "execution_count": 16,
   "metadata": {},
   "outputs": [
    {
     "data": {
      "text/html": [
       "<div>\n",
       "<style scoped>\n",
       "    .dataframe tbody tr th:only-of-type {\n",
       "        vertical-align: middle;\n",
       "    }\n",
       "\n",
       "    .dataframe tbody tr th {\n",
       "        vertical-align: top;\n",
       "    }\n",
       "\n",
       "    .dataframe thead th {\n",
       "        text-align: right;\n",
       "    }\n",
       "</style>\n",
       "<table border=\"1\" class=\"dataframe\">\n",
       "  <thead>\n",
       "    <tr style=\"text-align: right;\">\n",
       "      <th></th>\n",
       "      <th>cha</th>\n",
       "      <th>nar</th>\n",
       "      <th>DHK</th>\n",
       "      <th>DHQ</th>\n",
       "      <th>DHM</th>\n",
       "      <th>kam</th>\n",
       "      <th>que</th>\n",
       "      <th>myr</th>\n",
       "      <th>LCP</th>\n",
       "      <th>LCC</th>\n",
       "      <th>LCD</th>\n",
       "      <th>pel</th>\n",
       "      <th>cya</th>\n",
       "      <th>del</th>\n",
       "    </tr>\n",
       "  </thead>\n",
       "  <tbody>\n",
       "    <tr>\n",
       "      <th>0</th>\n",
       "      <td>0.01</td>\n",
       "      <td>0.01</td>\n",
       "      <td>0.002343</td>\n",
       "      <td>0.000792</td>\n",
       "      <td>0.000477</td>\n",
       "      <td>3.949157</td>\n",
       "      <td>1.334273</td>\n",
       "      <td>0.803526</td>\n",
       "      <td>0.002343</td>\n",
       "      <td>0.000792</td>\n",
       "      <td>0.000477</td>\n",
       "      <td>3.949157</td>\n",
       "      <td>1.334273</td>\n",
       "      <td>0.803526</td>\n",
       "    </tr>\n",
       "    <tr>\n",
       "      <th>1</th>\n",
       "      <td>0.01</td>\n",
       "      <td>0.01</td>\n",
       "      <td>0.000833</td>\n",
       "      <td>0.001779</td>\n",
       "      <td>0.001000</td>\n",
       "      <td>1.403311</td>\n",
       "      <td>2.998515</td>\n",
       "      <td>1.685130</td>\n",
       "      <td>0.000833</td>\n",
       "      <td>0.001779</td>\n",
       "      <td>0.001000</td>\n",
       "      <td>1.403311</td>\n",
       "      <td>2.998515</td>\n",
       "      <td>1.685130</td>\n",
       "    </tr>\n",
       "    <tr>\n",
       "      <th>2</th>\n",
       "      <td>0.01</td>\n",
       "      <td>0.01</td>\n",
       "      <td>0.000833</td>\n",
       "      <td>0.002311</td>\n",
       "      <td>0.001254</td>\n",
       "      <td>1.339936</td>\n",
       "      <td>3.719134</td>\n",
       "      <td>2.017503</td>\n",
       "      <td>0.000833</td>\n",
       "      <td>0.000807</td>\n",
       "      <td>0.001254</td>\n",
       "      <td>1.466686</td>\n",
       "      <td>1.422307</td>\n",
       "      <td>2.208347</td>\n",
       "    </tr>\n",
       "    <tr>\n",
       "      <th>3</th>\n",
       "      <td>0.01</td>\n",
       "      <td>0.01</td>\n",
       "      <td>0.000897</td>\n",
       "      <td>0.002458</td>\n",
       "      <td>0.001340</td>\n",
       "      <td>1.418747</td>\n",
       "      <td>3.889141</td>\n",
       "      <td>2.120603</td>\n",
       "      <td>0.000515</td>\n",
       "      <td>0.000835</td>\n",
       "      <td>0.001303</td>\n",
       "      <td>0.920360</td>\n",
       "      <td>1.493782</td>\n",
       "      <td>2.331280</td>\n",
       "    </tr>\n",
       "  </tbody>\n",
       "</table>\n",
       "</div>"
      ],
      "text/plain": [
       "    cha   nar       DHK       DHQ       DHM       kam       que       myr  \\\n",
       "0  0.01  0.01  0.002343  0.000792  0.000477  3.949157  1.334273  0.803526   \n",
       "1  0.01  0.01  0.000833  0.001779  0.001000  1.403311  2.998515  1.685130   \n",
       "2  0.01  0.01  0.000833  0.002311  0.001254  1.339936  3.719134  2.017503   \n",
       "3  0.01  0.01  0.000897  0.002458  0.001340  1.418747  3.889141  2.120603   \n",
       "\n",
       "        LCP       LCC       LCD       pel       cya       del  \n",
       "0  0.002343  0.000792  0.000477  3.949157  1.334273  0.803526  \n",
       "1  0.000833  0.001779  0.001000  1.403311  2.998515  1.685130  \n",
       "2  0.000833  0.000807  0.001254  1.466686  1.422307  2.208347  \n",
       "3  0.000515  0.000835  0.001303  0.920360  1.493782  2.331280  "
      ]
     },
     "execution_count": 16,
     "metadata": {},
     "output_type": "execute_result"
    }
   ],
   "source": [
    "# Check the concentration trajectories of floating species during evolution\n",
    "evolving_set.pathway_set[0].concentrations"
   ]
  },
  {
   "cell_type": "code",
   "execution_count": 19,
   "metadata": {},
   "outputs": [
    {
     "data": {
      "text/plain": [
       "{635: [(0.01,\n",
       "   0.01,\n",
       "   0.000896566030477882,\n",
       "   0.002457711344287807,\n",
       "   0.001340097938978392,\n",
       "   1.4187473933528085,\n",
       "   3.8891408382530415,\n",
       "   2.1206028258171536,\n",
       "   0.0005145085971595933,\n",
       "   0.0008350685699143553,\n",
       "   0.0013032547089431219,\n",
       "   0.9203600239610022,\n",
       "   1.4937820927743575,\n",
       "   2.331279869319899),\n",
       "  (14.0,\n",
       "   0.001,\n",
       "   0.013,\n",
       "   14.0,\n",
       "   0.001,\n",
       "   0.013,\n",
       "   14.0,\n",
       "   0.001,\n",
       "   0.013,\n",
       "   14.0,\n",
       "   0.001,\n",
       "   0.0016559855712126065,\n",
       "   14.0,\n",
       "   0.001,\n",
       "   0.013,\n",
       "   14.0,\n",
       "   0.001,\n",
       "   0.013,\n",
       "   0.013,\n",
       "   0.013,\n",
       "   14.0,\n",
       "   14.0,\n",
       "   8.261247396997264,\n",
       "   0.001,\n",
       "   0.013,\n",
       "   0.03720873040932379,\n",
       "   0.013,\n",
       "   14.0,\n",
       "   14.0,\n",
       "   14.0,\n",
       "   0.001,\n",
       "   0.013,\n",
       "   0.013,\n",
       "   0.013,\n",
       "   14.0,\n",
       "   14.0,\n",
       "   0.0005,\n",
       "   0.0005,\n",
       "   0.0005,\n",
       "   0.0005,\n",
       "   0.0005,\n",
       "   0.0005)]}"
      ]
     },
     "execution_count": 19,
     "metadata": {},
     "output_type": "execute_result"
    }
   ],
   "source": [
    "# Check if an optimum was actually reached in the simulations, if not will be an empty {}\n",
    "evolving_set.pathway_set[0].optima"
   ]
  },
  {
   "cell_type": "code",
   "execution_count": 18,
   "metadata": {},
   "outputs": [
    {
     "name": "stdout",
     "output_type": "stream",
     "text": [
      "The total concentration is 12.201260250667952 arbitrary units\n"
     ]
    },
    {
     "data": {
      "image/png": "[encoded data removed]",
      "text/plain": [
       "<Figure size 432x288 with 1 Axes>"
      ]
     },
     "metadata": {
      "needs_background": "light"
     },
     "output_type": "display_data"
    }
   ],
   "source": [
    "# Check the steady state concentrations\n",
    "evolving_set.pathway_set[0].plot_ss()"
   ]
  },
  {
   "cell_type": "code",
   "execution_count": null,
   "metadata": {},
   "outputs": [],
   "source": []
  },
  {
   "cell_type": "code",
   "execution_count": null,
   "metadata": {},
   "outputs": [],
   "source": []
  }
 ],
 "metadata": {
  "kernelspec": {
   "display_name": "Python 3",
   "language": "python",
   "name": "python3"
  },
  "language_info": {
   "codemirror_mode": {
    "name": "ipython",
    "version": 3
   },
   "file_extension": ".py",
   "mimetype": "text/x-python",
   "name": "python",
   "nbconvert_exporter": "python",
   "pygments_lexer": "ipython3",
   "version": "3.6.7"
  }
 },
 "nbformat": 4,
 "nbformat_minor": 4
}
